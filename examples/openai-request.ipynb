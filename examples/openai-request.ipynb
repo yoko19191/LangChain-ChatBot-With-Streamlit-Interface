{
 "cells": [
  {
   "cell_type": "markdown",
   "source": [
    "# OpenAI Request"
   ],
   "metadata": {
    "collapsed": false,
    "pycharm": {
     "name": "#%% md\n"
    }
   }
  },
  {
   "cell_type": "code",
   "source": [
    "import os\n",
    "import openai\n",
    "\n",
    "from dotenv import load_dotenv, find_dotenv\n",
    "\n",
    "_ = load_dotenv(find_dotenv()) # read local .env file"
   ],
   "metadata": {
    "collapsed": false,
    "pycharm": {
     "name": "#%%\n",
     "is_executing": true
    },
    "ExecuteTime": {
     "end_time": "2024-07-16T07:19:26.262873Z",
     "start_time": "2024-07-16T07:19:25.134762Z"
    }
   },
   "outputs": [],
   "execution_count": 1
  },
  {
   "cell_type": "code",
   "source": [
    "client = openai.Client(\n",
    "    api_key = os.environ['OPENAI_API_KEY'],\n",
    "    base_url = os.environ['OPENAI_BASE_URL']\n",
    ")"
   ],
   "metadata": {
    "collapsed": false,
    "pycharm": {
     "name": "#%%\n"
    },
    "ExecuteTime": {
     "end_time": "2024-07-16T07:20:03.812028Z",
     "start_time": "2024-07-16T07:20:02.913253Z"
    }
   },
   "outputs": [],
   "execution_count": 3
  },
  {
   "cell_type": "code",
   "source": [
    "models = client.models.list()\n",
    "\n",
    "for model in models:\n",
    "    print(model)"
   ],
   "metadata": {
    "collapsed": false,
    "pycharm": {
     "name": "#%%\n"
    },
    "ExecuteTime": {
     "end_time": "2024-07-16T07:20:06.747621Z",
     "start_time": "2024-07-16T07:20:05.917584Z"
    }
   },
   "outputs": [
    {
     "name": "stdout",
     "output_type": "stream",
     "text": [
      "Model(id='dall-e-3', created=1698785189, object='model', owned_by='system')\n",
      "Model(id='whisper-1', created=1677532384, object='model', owned_by='openai-internal')\n",
      "Model(id='gpt-4-0314', created=1687882410, object='model', owned_by='openai')\n",
      "Model(id='tts-1', created=1681940951, object='model', owned_by='openai-internal')\n",
      "Model(id='dall-e-2', created=1698798177, object='model', owned_by='system')\n",
      "Model(id='gpt-4-32k-0314', created=1687979321, object='model', owned_by='openai')\n",
      "Model(id='tts-1-hd-1106', created=1699053533, object='model', owned_by='system')\n",
      "Model(id='tts-1-hd', created=1699046015, object='model', owned_by='system')\n",
      "Model(id='gpt-4-turbo-2024-04-09', created=1712601677, object='model', owned_by='system')\n",
      "Model(id='gpt-4-turbo', created=1712361441, object='model', owned_by='system')\n",
      "Model(id='gpt-4-0613', created=1686588896, object='model', owned_by='openai')\n",
      "Model(id='gpt-4o-2024-05-13', created=1715368132, object='model', owned_by='system')\n",
      "Model(id='gpt-4-0125-preview', created=1706037612, object='model', owned_by='system')\n",
      "Model(id='gpt-4', created=1687882411, object='model', owned_by='openai')\n",
      "Model(id='text-embedding-3-small', created=1705948997, object='model', owned_by='system')\n",
      "Model(id='gpt-4-turbo-preview', created=1706037777, object='model', owned_by='system')\n",
      "Model(id='text-embedding-3-large', created=1705953180, object='model', owned_by='system')\n",
      "Model(id='babbage-002', created=1692634615, object='model', owned_by='system')\n",
      "Model(id='gpt-4-1106-preview', created=1698957206, object='model', owned_by='system')\n",
      "Model(id='gpt-3.5-turbo-0125', created=1706048358, object='model', owned_by='system')\n",
      "Model(id='tts-1-1106', created=1699053241, object='model', owned_by='system')\n",
      "Model(id='gpt-3.5-turbo', created=1677610602, object='model', owned_by='openai')\n",
      "Model(id='gpt-3.5-turbo-instruct', created=1692901427, object='model', owned_by='system')\n",
      "Model(id='gpt-3.5-turbo-instruct-0914', created=1694122472, object='model', owned_by='system')\n",
      "Model(id='gpt-3.5-turbo-1106', created=1698959748, object='model', owned_by='system')\n",
      "Model(id='text-embedding-ada-002', created=1671217299, object='model', owned_by='openai-internal')\n",
      "Model(id='gpt-3.5-turbo-16k', created=1683758102, object='model', owned_by='openai-internal')\n",
      "Model(id='davinci-002', created=1692634301, object='model', owned_by='system')\n",
      "Model(id='gpt-4o', created=1715367049, object='model', owned_by='system')\n"
     ]
    }
   ],
   "execution_count": 4
  },
  {
   "cell_type": "code",
   "source": [
    "def get_embedding(text: str, model: str) -> list[float]:\n",
    "    return client.embeddings.create(\n",
    "        input=text,\n",
    "        model=model).data[0].embedding\n",
    "\n",
    "def get_completions(prompt: str, system_prompt: str, model: str) -> str:\n",
    "    return client.chat.completions.create(\n",
    "        model=model,\n",
    "        messages=[\n",
    "            {\"role\": \"system\", \"content\": system_prompt},\n",
    "            {\"role\": \"user\", \"content\": prompt}\n",
    "        ]\n",
    "    ).choices[0].message.content"
   ],
   "metadata": {
    "collapsed": false,
    "pycharm": {
     "name": "#%%\n"
    },
    "ExecuteTime": {
     "end_time": "2024-07-16T07:29:26.020044Z",
     "start_time": "2024-07-16T07:29:26.015671Z"
    }
   },
   "outputs": [],
   "execution_count": 17
  },
  {
   "metadata": {
    "ExecuteTime": {
     "end_time": "2024-07-16T07:31:48.143615Z",
     "start_time": "2024-07-16T07:31:48.139835Z"
    }
   },
   "cell_type": "code",
   "source": [
    "embedding_model = \"text-embedding-3-small\"\n",
    "chat_model = \"gpt-3.5-turbo\""
   ],
   "outputs": [],
   "execution_count": 22
  },
  {
   "metadata": {
    "ExecuteTime": {
     "end_time": "2024-07-16T07:28:15.335949Z",
     "start_time": "2024-07-16T07:28:13.887795Z"
    }
   },
   "cell_type": "code",
   "source": [
    "sentence1 = \"i like dogs\"\n",
    "sentence2 = \"i like canine\"\n",
    "sentence3 = \"what a adorable puppy\"\n",
    "\n",
    "embedding1 = get_embedding(sentence1, embedding_model)\n",
    "embedding2 = get_embedding(sentence2, embedding_model)\n",
    "embedding3 = get_embedding(sentence3, embedding_model)\n",
    "\n",
    "\n",
    "import numpy as np\n",
    "\n",
    "def cosine_similarity(a, b):\n",
    "    return np.dot(a, b) / (np.linalg.norm(a) * np.linalg.norm(b))\n",
    "\n",
    "print(f\"embedding shape: {len(embedding1)}\" )\n",
    "\n",
    "print(\"dot similarities\")\n",
    "print(f\"{sentence1} vs {sentence2}: {np.dot(embedding1, embedding2)}\")\n",
    "print(f\"{sentence1} vs {sentence3}: {np.dot(embedding1, embedding3)}\")\n",
    "print(f\"{sentence2} vs {sentence3}: {np.dot(embedding2, embedding3)}\")\n",
    "\n",
    "print(\"cosine similarities\")\n",
    "print(f\"{sentence1} vs {sentence2}: {cosine_similarity(embedding1, embedding2)}\")\n",
    "print(f\"{sentence1} vs {sentence3}: {cosine_similarity(embedding1, embedding3)}\")\n",
    "print(f\"{sentence2} vs {sentence3}: {cosine_similarity(embedding2, embedding3)}\")"
   ],
   "outputs": [
    {
     "name": "stdout",
     "output_type": "stream",
     "text": [
      "embedding shape: 1536\n",
      "dot similarities\n",
      "i like dogs vs i like canine: 0.8095082813567271\n",
      "i like dogs vs what a adorable puppy: 0.41316494659605885\n",
      "i like canine vs what a adorable puppy: 0.44865537530658284\n",
      "cosine similarities\n",
      "i like dogs vs i like canine: 0.8095082421548002\n",
      "i like dogs vs what a adorable puppy: 0.4131649408794952\n",
      "i like canine vs what a adorable puppy: 0.44865536766275166\n"
     ]
    }
   ],
   "execution_count": 16
  },
  {
   "metadata": {
    "ExecuteTime": {
     "end_time": "2024-07-16T07:32:10.713643Z",
     "start_time": "2024-07-16T07:32:09.779129Z"
    }
   },
   "cell_type": "code",
   "source": [
    "system_prompt = \"\"\"\n",
    "You are a helpful assistant that can answer questions about the following text.\n",
    "\"\"\"\n",
    "prompt = \"\"\"\n",
    "What is the capital of French?\n",
    "\"\"\"\n",
    "\n",
    "resposne = get_completions(prompt, system_prompt, chat_model)\n",
    "print(resposne)"
   ],
   "outputs": [
    {
     "name": "stdout",
     "output_type": "stream",
     "text": [
      "The capital of France is Paris.\n"
     ]
    }
   ],
   "execution_count": 25
  },
  {
   "metadata": {},
   "cell_type": "code",
   "outputs": [],
   "execution_count": null,
   "source": ""
  }
 ],
 "metadata": {
  "kernelspec": {
   "display_name": "Python 3",
   "language": "python",
   "name": "python3"
  },
  "language_info": {
   "codemirror_mode": {
    "name": "ipython",
    "version": 2
   },
   "file_extension": ".py",
   "mimetype": "text/x-python",
   "name": "python",
   "nbconvert_exporter": "python",
   "pygments_lexer": "ipython2",
   "version": "2.7.6"
  }
 },
 "nbformat": 4,
 "nbformat_minor": 0
}
