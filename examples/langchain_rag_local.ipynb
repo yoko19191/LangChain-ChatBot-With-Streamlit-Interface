{
 "cells": [
  {
   "cell_type": "markdown",
   "source": [
    "# LangChain RAG Local"
   ],
   "metadata": {
    "collapsed": false,
    "pycharm": {
     "name": "#%% md\n"
    }
   }
  },
  {
   "cell_type": "code",
   "source": [
    "import os \n",
    "\n",
    "from dotenv import find_dotenv, load_dotenv\n",
    "_ = load_dotenv(find_dotenv())"
   ],
   "metadata": {
    "collapsed": false,
    "pycharm": {
     "name": "#%%\n"
    }
   },
   "outputs": [],
   "execution_count": null
  },
  {
   "metadata": {},
   "cell_type": "code",
   "source": [
    "embedding_name = \"text-embedding-ada-002\"\n",
    "chat_name = \"gpt-3.5-turbo\""
   ],
   "outputs": [],
   "execution_count": null
  },
  {
   "cell_type": "markdown",
   "source": [
    "## 1/5 - Load Documents"
   ],
   "metadata": {
    "collapsed": false,
    "pycharm": {
     "name": "#%% md\n"
    }
   }
  },
  {
   "cell_type": "code",
   "source": [
    "from langchain.document_loaders import PyPDFLoader # pip install pypdf\n",
    "\n",
    "pdf_loader = PyPDFLoader('bitcoin.pdf')\n",
    "pdf_pages = pdf_loader.load()\n",
    "\n",
    "print(pdf_pages[1].page_content[:100])\n",
    "print(pdf_pages[-1].metadata)"
   ],
   "metadata": {
    "collapsed": false,
    "pycharm": {
     "name": "#%%\n"
    }
   },
   "outputs": [],
   "execution_count": null
  },
  {
   "cell_type": "markdown",
   "source": [
    "## 2/5 - Split Documents"
   ],
   "metadata": {
    "collapsed": false,
    "pycharm": {
     "name": "#%% md\n"
    }
   }
  },
  {
   "cell_type": "code",
   "source": [
    "from langchain.text_splitter import CharacterTextSplitter, RecursiveCharacterTextSplitter, TokenTextSplitter, MarkdownTextSplitter\n",
    "\n",
    "chunk_size = 512\n",
    "chunk_overlap = 20\n",
    "separators = [\"\\n\\n\", \"\\n\", \" \", \"\"]\n",
    "\n",
    "r_splitter = RecursiveCharacterTextSplitter(\n",
    "    chunk_size=chunk_size,\n",
    "    chunk_overlap=chunk_overlap,\n",
    "    separators=separators\n",
    ")\n",
    "\n",
    "splits = r_splitter.split_documents(pdf_pages)"
   ],
   "metadata": {
    "collapsed": false,
    "pycharm": {
     "name": "#%%\n"
    }
   },
   "outputs": [],
   "execution_count": null
  },
  {
   "metadata": {},
   "cell_type": "code",
   "source": [
    "# r_splitter.split_text(pdf_pages[2].page_content)\n",
    "\n",
    "# splits = []\n",
    "# \n",
    "# for page in pdf_pages:\n",
    "#     splits.extend(r_splitter.split_text(page.page_content))\n",
    "#     \n",
    "#     \n",
    "# splits[:5]"
   ],
   "outputs": [],
   "execution_count": null
  },
  {
   "cell_type": "markdown",
   "source": [
    "## 3/5 - Vector Store & Embedding"
   ],
   "metadata": {
    "collapsed": false,
    "pycharm": {
     "name": "#%% md\n"
    }
   }
  },
  {
   "cell_type": "code",
   "source": [
    "from langchain.vectorstores import Chroma\n",
    "from langchain_openai import OpenAIEmbeddings\n",
    "\n",
    "chroma_persist_directory = \"../Cache/chroma\"\n",
    "\n",
    "embedding = OpenAIEmbeddings(\n",
    "    model=embedding_name\n",
    ")\n",
    "\n",
    "vector_db = Chroma.from_documents(\n",
    "    documents=splits,\n",
    "    embedding=embedding,\n",
    "    persist_directory=chroma_persist_directory\n",
    ")\n",
    "\n",
    "# vector_db.persist() "
   ],
   "metadata": {
    "collapsed": false,
    "pycharm": {
     "name": "#%%\n"
    }
   },
   "outputs": [],
   "execution_count": null
  },
  {
   "cell_type": "markdown",
   "source": [
    "## 4/5 - Retrieve Strategy\n",
    "https://python.langchain.com/v0.1/docs/modules/data_connection/retrievers/"
   ],
   "metadata": {
    "collapsed": false,
    "pycharm": {
     "name": "#%% md\n"
    }
   }
  },
  {
   "metadata": {},
   "cell_type": "code",
   "source": [
    "from langchain.retrievers import ContextualCompressionRetriever\n",
    "from langchain.retrievers.document_compressors import LLMChainExtractor\n",
    "from langchain_openai import OpenAI\n",
    "\n",
    "compressor = LLMChainExtractor.from_llm(\n",
    "    llm=OpenAI(temperature=0.0, model=\"gpt-3.5-turbo-instruct\")\n",
    ")\n",
    "\n",
    "retriever = ContextualCompressionRetriever(\n",
    "    base_compressor=compressor,\n",
    "    base_retriever=vector_db.as_retriever(search_type=\"mmr\")\n",
    ")"
   ],
   "outputs": [],
   "execution_count": null
  },
  {
   "cell_type": "code",
   "source": [
    "# question = \"What is Bitcoin?\"\n",
    "# \n",
    "# retrieved_docs = vector_db.similarity_search(\n",
    "#     question,\n",
    "#     k=3\n",
    "# )\n",
    "\n",
    "# retrieved_docs = vector_db.max_marginal_relevance_search(\n",
    "#     question,\n",
    "#     k=3,\n",
    "#     fetch_k=3\n",
    "# )\n",
    "\n",
    "# retrieved_docs = vector_db.max_marginal_relevance_search(\n",
    "#     question,\n",
    "#     k=3,\n",
    "#     filter={\"source\": \"bitcoin.pdf\"}\n",
    "# )\n",
    "\n",
    "# retrieved_docs = compression_retriever.get_relevant_documents(question)\n",
    "# retrieved_docs[1].page_content"
   ],
   "metadata": {
    "collapsed": false,
    "pycharm": {
     "name": "#%%\n"
    }
   },
   "outputs": [],
   "execution_count": null
  },
  {
   "cell_type": "markdown",
   "source": [
    "## 5/5 - Chain & Query"
   ],
   "metadata": {
    "collapsed": false,
    "pycharm": {
     "name": "#%% md\n"
    }
   }
  },
  {
   "cell_type": "code",
   "source": [
    "from langchain_openai import ChatOpenAI\n",
    "\n",
    "llm = ChatOpenAI(model_name=chat_name, temperature=0.0)\n",
    "# llm.invoke(\"What is the capital of France?\")"
   ],
   "metadata": {
    "collapsed": false,
    "pycharm": {
     "name": "#%%\n"
    }
   },
   "outputs": [],
   "execution_count": null
  },
  {
   "metadata": {},
   "cell_type": "code",
   "source": "",
   "outputs": [],
   "execution_count": null
  }
 ],
 "metadata": {
  "kernelspec": {
   "display_name": "Python 3",
   "language": "python",
   "name": "python3"
  },
  "language_info": {
   "codemirror_mode": {
    "name": "ipython",
    "version": 2
   },
   "file_extension": ".py",
   "mimetype": "text/x-python",
   "name": "python",
   "nbconvert_exporter": "python",
   "pygments_lexer": "ipython2",
   "version": "2.7.6"
  }
 },
 "nbformat": 4,
 "nbformat_minor": 0
}
